{
 "cells": [
  {
   "cell_type": "markdown",
   "source": [
    "Python Function"
   ],
   "metadata": {}
  },
  {
   "cell_type": "code",
   "execution_count": 1,
   "source": [
    "def my_function(p, l):\r\n",
    "    print(p * l)\r\n",
    "\r\n",
    "my_function(2,4)"
   ],
   "outputs": [
    {
     "output_type": "stream",
     "name": "stdout",
     "text": [
      "8\n"
     ]
    }
   ],
   "metadata": {}
  },
  {
   "cell_type": "markdown",
   "source": [
    "Keyword Arguments"
   ],
   "metadata": {}
  },
  {
   "cell_type": "code",
   "execution_count": 2,
   "source": [
    "# Function definition is here\r\n",
    "def printme( str ):\r\n",
    "   \"This prints a passed string into this function\"\r\n",
    "   print(str)\r\n",
    "   return;\r\n",
    "\r\n",
    "# Now you can call printme function\r\n",
    "printme(str = \"Hacktiv8\")"
   ],
   "outputs": [
    {
     "output_type": "stream",
     "name": "stdout",
     "text": [
      "Hacktiv8\n"
     ]
    }
   ],
   "metadata": {}
  },
  {
   "cell_type": "code",
   "execution_count": 3,
   "source": [
    "def printinfo(name,age):\r\n",
    "    print(\"Name: \", name)\r\n",
    "    print(\"Age: \", age)\r\n",
    "    return;\r\n",
    "\r\n",
    "printinfo(age=4, name=\"a\")"
   ],
   "outputs": [
    {
     "output_type": "stream",
     "name": "stdout",
     "text": [
      "Name:  a\n",
      "Age:  4\n"
     ]
    }
   ],
   "metadata": {}
  },
  {
   "cell_type": "markdown",
   "source": [
    "Default Argument"
   ],
   "metadata": {}
  },
  {
   "cell_type": "code",
   "execution_count": 6,
   "source": [
    "def printinfo(name, age=26):\r\n",
    "    print(\"Name: \", name)\r\n",
    "    print(\"Age: \", age)\r\n",
    "    return;\r\n",
    "printinfo(age=50, name=\"Hacktiv8\")\r\n",
    "printinfo(name=\"Hacktiv8\")"
   ],
   "outputs": [
    {
     "output_type": "stream",
     "name": "stdout",
     "text": [
      "Name:  Hacktiv8\n",
      "Age:  50\n",
      "Name:  Hacktiv8\n",
      "Age:  26\n"
     ]
    }
   ],
   "metadata": {}
  },
  {
   "cell_type": "markdown",
   "source": [
    "Variable-length arguments"
   ],
   "metadata": {}
  },
  {
   "cell_type": "code",
   "execution_count": 7,
   "source": [
    "def printinfo (arg1, *vartuple):\r\n",
    "    print(\"Output is: \", arg1)\r\n",
    "    for var in vartuple:\r\n",
    "        print(\"vartuple: \", var)\r\n",
    "    return;\r\n",
    "printinfo(10)\r\n",
    "printinfo(70,60,\"a\")\r\n"
   ],
   "outputs": [
    {
     "output_type": "stream",
     "name": "stdout",
     "text": [
      "Output is:  10\n",
      "Output is:  70\n",
      "vartuple:  60\n",
      "vartuple:  a\n"
     ]
    }
   ],
   "metadata": {}
  },
  {
   "cell_type": "markdown",
   "source": [
    "Lambda"
   ],
   "metadata": {}
  },
  {
   "cell_type": "code",
   "execution_count": 9,
   "source": [
    "# Function definition is here\r\n",
    "sum = lambda arg1, arg2: arg1 + arg2;\r\n",
    "\r\n",
    "# Now you can call sum as a function\r\n",
    "print(\"Value of total : \", sum( 10, 20 ))\r\n",
    "print(\"Value of total : \", sum( 20, 20 ))"
   ],
   "outputs": [
    {
     "output_type": "stream",
     "name": "stdout",
     "text": [
      "Value of total :  30\n",
      "Value of total :  40\n"
     ]
    }
   ],
   "metadata": {}
  },
  {
   "cell_type": "code",
   "execution_count": 12,
   "source": [
    "def sum(arg1, arg2):\r\n",
    "    a=arg1 + arg2\r\n",
    "    print(a)\r\n",
    "    \r\n",
    "# Now you can call sum as a function\r\n",
    "print(\"Value of total : \", sum( 10, 20 ))\r\n",
    "print(\"Value of total : \", sum( 20, 20 ))"
   ],
   "outputs": [
    {
     "output_type": "stream",
     "name": "stdout",
     "text": [
      "30\n",
      "Value of total :  None\n",
      "40\n",
      "Value of total :  None\n"
     ]
    }
   ],
   "metadata": {}
  },
  {
   "cell_type": "markdown",
   "source": [
    "The Return Statement"
   ],
   "metadata": {}
  },
  {
   "cell_type": "code",
   "execution_count": 13,
   "source": [
    "# Function definition is here\r\n",
    "def sum(arg1, arg2):\r\n",
    "    # Add both the parameters and return them.\"\r\n",
    "    total = arg1 + arg2\r\n",
    "    total2 = total + arg1\r\n",
    "    print(\"Inside the function : \", total)\r\n",
    "    return total2\r\n",
    "\r\n",
    "# Now you can call sum function\r\n",
    "total = sum(10, 20)\r\n",
    "print(\"Outside the function : \", total)"
   ],
   "outputs": [
    {
     "output_type": "stream",
     "name": "stdout",
     "text": [
      "Inside the function :  30\n",
      "Outside the function :  40\n"
     ]
    }
   ],
   "metadata": {}
  },
  {
   "cell_type": "code",
   "execution_count": 16,
   "source": [
    "jumlahKucing = 20\r\n",
    "\r\n",
    "def jumlahHewan():\r\n",
    "    jumlahAnjing = 30\r\n",
    "    return jumlahKucing + jumlahAnjing\r\n",
    "\r\n",
    "def jumlahKelinci():\r\n",
    "    return jumlahKucing + jumlahKucing\r\n",
    "\r\n",
    "print(jumlahHewan())\r\n",
    "print(jumlahKelinci())"
   ],
   "outputs": [
    {
     "output_type": "stream",
     "name": "stdout",
     "text": [
      "50\n",
      "40\n"
     ]
    }
   ],
   "metadata": {}
  },
  {
   "cell_type": "code",
   "execution_count": 18,
   "source": [
    "pip install mod"
   ],
   "outputs": [
    {
     "output_type": "stream",
     "name": "stdout",
     "text": [
      "Collecting mod\n",
      "  Downloading https://files.pythonhosted.org/packages/ac/a4/bcd7f8c9bd1c4bc1c6ea7d1aa39cea0b38d8303f6f06994cac5264ecae22/mod-0.3.0-py3-none-any.whl\n",
      "Installing collected packages: mod\n",
      "Successfully installed mod-0.3.0\n",
      "Note: you may need to restart the kernel to use updated packages.\n"
     ]
    }
   ],
   "metadata": {}
  },
  {
   "cell_type": "code",
   "execution_count": 22,
   "source": [
    "import mod\r\n",
    "print(mod)"
   ],
   "outputs": [
    {
     "output_type": "stream",
     "name": "stdout",
     "text": [
      "<module 'mod' from 'C:\\\\Users\\\\lenovo\\\\Anaconda3\\\\lib\\\\site-packages\\\\mod.py'>\n"
     ]
    }
   ],
   "metadata": {}
  },
  {
   "cell_type": "code",
   "execution_count": 23,
   "source": [
    "print(mod.Number)"
   ],
   "outputs": [
    {
     "output_type": "stream",
     "name": "stdout",
     "text": [
      "<class 'numbers.Number'>\n"
     ]
    }
   ],
   "metadata": {}
  },
  {
   "cell_type": "code",
   "execution_count": 25,
   "source": [
    "import sys\r\n",
    "sys.path"
   ],
   "outputs": [
    {
     "output_type": "execute_result",
     "data": {
      "text/plain": [
       "['d:\\\\Coolyeah\\\\MBKM\\\\Hactiv8\\\\Python\\\\sesi_4',\n",
       " 'c:\\\\Users\\\\lenovo\\\\.vscode\\\\extensions\\\\ms-toolsai.jupyter-2021.8.1236758218\\\\pythonFiles',\n",
       " 'c:\\\\Users\\\\lenovo\\\\.vscode\\\\extensions\\\\ms-toolsai.jupyter-2021.8.1236758218\\\\pythonFiles\\\\lib\\\\python',\n",
       " 'C:\\\\Users\\\\lenovo\\\\Anaconda3\\\\python37.zip',\n",
       " 'C:\\\\Users\\\\lenovo\\\\Anaconda3\\\\DLLs',\n",
       " 'C:\\\\Users\\\\lenovo\\\\Anaconda3\\\\lib',\n",
       " 'C:\\\\Users\\\\lenovo\\\\Anaconda3',\n",
       " '',\n",
       " 'C:\\\\Users\\\\lenovo\\\\Anaconda3\\\\lib\\\\site-packages',\n",
       " 'C:\\\\Users\\\\lenovo\\\\Anaconda3\\\\lib\\\\site-packages\\\\win32',\n",
       " 'C:\\\\Users\\\\lenovo\\\\Anaconda3\\\\lib\\\\site-packages\\\\win32\\\\lib',\n",
       " 'C:\\\\Users\\\\lenovo\\\\Anaconda3\\\\lib\\\\site-packages\\\\Pythonwin',\n",
       " 'C:\\\\Users\\\\lenovo\\\\Anaconda3\\\\lib\\\\site-packages\\\\IPython\\\\extensions',\n",
       " 'C:\\\\Users\\\\lenovo\\\\.ipython']"
      ]
     },
     "metadata": {},
     "execution_count": 25
    }
   ],
   "metadata": {}
  },
  {
   "cell_type": "code",
   "execution_count": 28,
   "source": [
    "mod.s"
   ],
   "outputs": [
    {
     "output_type": "error",
     "ename": "AttributeError",
     "evalue": "module 'mod' has no attribute 's'",
     "traceback": [
      "\u001b[1;31m---------------------------------------------------------------------------\u001b[0m",
      "\u001b[1;31mAttributeError\u001b[0m                            Traceback (most recent call last)",
      "\u001b[1;32m<ipython-input-28-6d1cdb40c2b4>\u001b[0m in \u001b[0;36m<module>\u001b[1;34m\u001b[0m\n\u001b[1;32m----> 1\u001b[1;33m \u001b[0mmod\u001b[0m\u001b[1;33m.\u001b[0m\u001b[0ms\u001b[0m\u001b[1;33m\u001b[0m\u001b[1;33m\u001b[0m\u001b[0m\n\u001b[0m",
      "\u001b[1;31mAttributeError\u001b[0m: module 'mod' has no attribute 's'"
     ]
    }
   ],
   "metadata": {}
  },
  {
   "cell_type": "code",
   "execution_count": 29,
   "source": [],
   "outputs": [
    {
     "output_type": "execute_result",
     "data": {
      "text/plain": [
       "<function functools.total_ordering(cls)>"
      ]
     },
     "metadata": {},
     "execution_count": 29
    }
   ],
   "metadata": {}
  },
  {
   "cell_type": "markdown",
   "source": [],
   "metadata": {}
  }
 ],
 "metadata": {
  "orig_nbformat": 4,
  "language_info": {
   "name": "python",
   "version": "3.7.4",
   "mimetype": "text/x-python",
   "codemirror_mode": {
    "name": "ipython",
    "version": 3
   },
   "pygments_lexer": "ipython3",
   "nbconvert_exporter": "python",
   "file_extension": ".py"
  },
  "kernelspec": {
   "name": "python3",
   "display_name": "Python 3.7.4 64-bit ('base': conda)"
  },
  "interpreter": {
   "hash": "445008aef75f8a681a37ec417fc10da0b0223a565823ee726d94afc018b22edb"
  }
 },
 "nbformat": 4,
 "nbformat_minor": 2
}
