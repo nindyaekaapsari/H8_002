{
 "cells": [
  {
   "cell_type": "markdown",
   "source": [
    "# Hacktiv8-PTP Python for Data Science // S.1 // Introduction, Data Types, and Variables"
   ],
   "metadata": {}
  },
  {
   "cell_type": "markdown",
   "source": [
    "---"
   ],
   "metadata": {}
  },
  {
   "cell_type": "code",
   "execution_count": 1,
   "source": [
    "print(123123123123123123123123123123123123123123123123 + 1)"
   ],
   "outputs": [
    {
     "output_type": "stream",
     "name": "stdout",
     "text": [
      "123123123123123123123123123123123123123123123124\n"
     ]
    }
   ],
   "metadata": {}
  },
  {
   "cell_type": "markdown",
   "source": [
    "## <b> Data Type in Python </b>"
   ],
   "metadata": {}
  },
  {
   "cell_type": "code",
   "execution_count": 3,
   "source": [
    "# Integer\r\n",
    "\r\n",
    "print(15)\r\n",
    "print(type(15))"
   ],
   "outputs": [
    {
     "output_type": "stream",
     "name": "stdout",
     "text": [
      "15\n",
      "<class 'int'>\n"
     ]
    }
   ],
   "metadata": {}
  },
  {
   "cell_type": "code",
   "execution_count": 7,
   "source": [
    "# Floating-Point Numbers\r\n",
    "\r\n",
    "print(4.5)\r\n",
    "print(type(4.5))\r\n",
    "\r\n",
    "print(4.)\r\n",
    "print(.5)\r\n",
    "print(.4e7)\r\n",
    "print(4.5e-4)"
   ],
   "outputs": [
    {
     "output_type": "stream",
     "name": "stdout",
     "text": [
      "4.5\n",
      "<class 'float'>\n",
      "4.0\n",
      "0.5\n",
      "4000000.0\n",
      "0.00045\n"
     ]
    }
   ],
   "metadata": {}
  },
  {
   "cell_type": "code",
   "execution_count": 6,
   "source": [
    "# Strings\r\n",
    "\r\n",
    "print(\"Hacktiv8\")\r\n",
    "print(type(\"Hacktiv8\"))"
   ],
   "outputs": [
    {
     "output_type": "stream",
     "name": "stdout",
     "text": [
      "Hacktiv8\n",
      "<class 'str'>\n"
     ]
    }
   ],
   "metadata": {}
  },
  {
   "cell_type": "code",
   "execution_count": 8,
   "source": [
    "# Boolean\r\n",
    "\r\n",
    "print(type(True))\r\n",
    "print(type(False))"
   ],
   "outputs": [
    {
     "output_type": "stream",
     "name": "stdout",
     "text": [
      "<class 'bool'>\n",
      "<class 'bool'>\n"
     ]
    }
   ],
   "metadata": {}
  },
  {
   "cell_type": "markdown",
   "source": [
    "## <b> Variables </b>"
   ],
   "metadata": {}
  },
  {
   "cell_type": "code",
   "execution_count": 9,
   "source": [
    "# Variable Assignment\r\n",
    "\r\n",
    "n = 500\r\n",
    "print(n)\r\n",
    "n"
   ],
   "outputs": [
    {
     "output_type": "stream",
     "name": "stdout",
     "text": [
      "500\n"
     ]
    },
    {
     "output_type": "execute_result",
     "data": {
      "text/plain": [
       "500"
      ]
     },
     "metadata": {},
     "execution_count": 9
    }
   ],
   "metadata": {}
  },
  {
   "cell_type": "code",
   "execution_count": 10,
   "source": [
    "# Chained Assignment\r\n",
    "\r\n",
    "a = b = c = 600\r\n",
    "print(a, b, c)"
   ],
   "outputs": [
    {
     "output_type": "stream",
     "name": "stdout",
     "text": [
      "600 600 600\n"
     ]
    }
   ],
   "metadata": {}
  },
  {
   "cell_type": "code",
   "execution_count": 17,
   "source": [
    "# Variable can be updated\r\n",
    "\r\n",
    "var = 30\r\n",
    "print(var)\r\n",
    "\r\n",
    "var = \"I am string\"\r\n",
    "print(var)"
   ],
   "outputs": [
    {
     "output_type": "stream",
     "name": "stdout",
     "text": [
      "30\n",
      "I am string\n"
     ]
    }
   ],
   "metadata": {}
  },
  {
   "cell_type": "code",
   "execution_count": 15,
   "source": [
    "# Variables Names\r\n",
    "\r\n",
    "name = \"Nindya Eka Apsari\"\r\n",
    "Age = 21\r\n",
    "has_laptops = True\r\n",
    "print(name, Age, has_laptops)"
   ],
   "outputs": [
    {
     "output_type": "stream",
     "name": "stdout",
     "text": [
      "Nindya Eka Apsari 21 True\n"
     ]
    }
   ],
   "metadata": {}
  },
  {
   "cell_type": "code",
   "execution_count": 18,
   "source": [
    "# Variable name can not be initiating by number\r\n",
    "\r\n",
    "6_juni_2000 = True"
   ],
   "outputs": [
    {
     "output_type": "error",
     "ename": "SyntaxError",
     "evalue": "invalid token (<ipython-input-18-5846ea67ed6b>, line 3)",
     "traceback": [
      "\u001b[1;36m  File \u001b[1;32m\"<ipython-input-18-5846ea67ed6b>\"\u001b[1;36m, line \u001b[1;32m3\u001b[0m\n\u001b[1;33m    6_juni_2000 = True\u001b[0m\n\u001b[1;37m     ^\u001b[0m\n\u001b[1;31mSyntaxError\u001b[0m\u001b[1;31m:\u001b[0m invalid token\n"
     ]
    }
   ],
   "metadata": {}
  },
  {
   "cell_type": "code",
   "execution_count": 19,
   "source": [
    "# Supported variables name\r\n",
    "\r\n",
    "age = 1\r\n",
    "Age = 2\r\n",
    "aGe = 3\r\n",
    "AGE = 4\r\n",
    "a_g_e = 5\r\n",
    "_age = 6\r\n",
    "age_ = 7\r\n",
    "_AGE_ = 8"
   ],
   "outputs": [],
   "metadata": {}
  },
  {
   "cell_type": "markdown",
   "source": [
    "## <b> Operators </b>"
   ],
   "metadata": {}
  },
  {
   "cell_type": "code",
   "execution_count": 23,
   "source": [
    "n = 4\r\n",
    "k = 5\r\n",
    "print(\"n + k = \", n + k)\r\n",
    "print(\"n + k - 1 = \", n + k - 1)"
   ],
   "outputs": [
    {
     "output_type": "stream",
     "name": "stdout",
     "text": [
      "n + k =  9\n",
      "n + k - 1 =  8\n"
     ]
    }
   ],
   "metadata": {}
  },
  {
   "cell_type": "code",
   "execution_count": 26,
   "source": [
    "# Arithmetic Operators\r\n",
    "\r\n",
    "a = 10\r\n",
    "b = 9\r\n",
    "\r\n",
    "print(a + b)\r\n",
    "print(a - b)\r\n",
    "print(a * b)\r\n",
    "print(a / b)\r\n",
    "print(a % b)\r\n",
    "print(a ** b)"
   ],
   "outputs": [
    {
     "output_type": "stream",
     "name": "stdout",
     "text": [
      "19\n",
      "1\n",
      "90\n",
      "1.1111111111111112\n",
      "1\n",
      "1000000000\n"
     ]
    }
   ],
   "metadata": {}
  },
  {
   "cell_type": "code",
   "execution_count": 28,
   "source": [
    "# Comparison Operators\r\n",
    "\r\n",
    "a = 20\r\n",
    "b = 40\r\n",
    "\r\n",
    "print(a == b)\r\n",
    "print(a != b)\r\n",
    "print(a <= b)\r\n",
    "print(a >= b)"
   ],
   "outputs": [
    {
     "output_type": "stream",
     "name": "stdout",
     "text": [
      "False\n",
      "True\n",
      "True\n",
      "False\n"
     ]
    }
   ],
   "metadata": {}
  },
  {
   "cell_type": "code",
   "execution_count": 32,
   "source": [
    "# String Manipulation\r\n",
    "\r\n",
    "# + Operators\r\n",
    "s = 'Nin'\r\n",
    "t = 'dya'\r\n",
    "u = ' Eka'\r\n",
    "\r\n",
    "print(s + t)\r\n",
    "\r\n",
    "print(s + t + u)\r\n",
    "\r\n",
    "\r\n",
    "print('Statistika' + ' UNS')\r\n",
    "\r\n",
    "print(\"s * 4 =\", s * 4)\r\n",
    "\r\n",
    "print(s in \"Nindya Eka Apsari\")\r\n",
    "print(s in \"Eka Apsari\")"
   ],
   "outputs": [
    {
     "output_type": "stream",
     "name": "stdout",
     "text": [
      "Nindya\n",
      "Nindya Eka\n",
      "Statistika UNS\n",
      "s * 4 = NinNinNinNin\n",
      "True\n",
      "False\n"
     ]
    }
   ],
   "metadata": {}
  },
  {
   "cell_type": "code",
   "execution_count": 33,
   "source": [
    "# Case Conversion\r\n",
    "s = 'NinDya6'\r\n",
    "\r\n",
    "# Capitalize\r\n",
    "print(s.capitalize())\r\n",
    "\r\n",
    "# Lower\r\n",
    "print(s.lower())\r\n",
    "\r\n",
    "# Swapcase\r\n",
    "print(s.swapcase())\r\n",
    "\r\n",
    "# Title\r\n",
    "print(s.title())\r\n",
    "\r\n",
    "# Uppercase\r\n",
    "print(s.upper())"
   ],
   "outputs": [
    {
     "output_type": "stream",
     "name": "stdout",
     "text": [
      "Nindya6\n",
      "nindya6\n",
      "nINdYA6\n",
      "Nindya6\n",
      "NINDYA6\n"
     ]
    }
   ],
   "metadata": {}
  },
  {
   "cell_type": "markdown",
   "source": [
    "## <b> Python List <b/>"
   ],
   "metadata": {}
  },
  {
   "cell_type": "code",
   "execution_count": 34,
   "source": [
    "a = ['nin', 'dya', 'eka', 'apsari']\r\n",
    "\r\n",
    "print(a)"
   ],
   "outputs": [
    {
     "output_type": "stream",
     "name": "stdout",
     "text": [
      "['nin', 'dya', 'eka', 'apsari']\n"
     ]
    }
   ],
   "metadata": {}
  },
  {
   "cell_type": "code",
   "execution_count": 36,
   "source": [
    "# List are ordered\r\n",
    "\r\n",
    "a = ['nin', 'dya', 'eka', 'apsari']\r\n",
    "b = ['dya', 'eka', 'apsari', 'nin']\r\n",
    "\r\n",
    "a == b"
   ],
   "outputs": [
    {
     "output_type": "execute_result",
     "data": {
      "text/plain": [
       "False"
      ]
     },
     "metadata": {},
     "execution_count": 36
    }
   ],
   "metadata": {}
  },
  {
   "cell_type": "code",
   "execution_count": 38,
   "source": [
    "# List can contain arbitary objects\r\n",
    "\r\n",
    "a = [21.42, 'foobar', 3, 4, 'bark', False, 3.14159]\r\n",
    "\r\n",
    "print(a)"
   ],
   "outputs": [
    {
     "output_type": "stream",
     "name": "stdout",
     "text": [
      "[21.42, 'foobar', 3, 4, 'bark', False, 3.14159]\n"
     ]
    }
   ],
   "metadata": {}
  },
  {
   "cell_type": "markdown",
   "source": [
    "## <b> Python Tuples </b>"
   ],
   "metadata": {}
  },
  {
   "cell_type": "code",
   "execution_count": 39,
   "source": [
    "t = ('foo', 'bar', 'baz', 'qux', 'quux', 'corge')\r\n",
    "\r\n",
    "print(t)"
   ],
   "outputs": [
    {
     "output_type": "stream",
     "name": "stdout",
     "text": [
      "('foo', 'bar', 'baz', 'qux', 'quux', 'corge')\n"
     ]
    }
   ],
   "metadata": {}
  },
  {
   "cell_type": "markdown",
   "source": [
    "## <b> Python Dictionary </b>"
   ],
   "metadata": {}
  },
  {
   "cell_type": "code",
   "execution_count": 40,
   "source": [
    "data_diri = {\r\n",
    "    'nama': 'Nindya',\r\n",
    "    'batch': '002',\r\n",
    "    'program': 'Intro to Python for Data Science',\r\n",
    "    'univ': 'UNS',\r\n",
    "    'prodi': 'Statistika'\r\n",
    "}"
   ],
   "outputs": [],
   "metadata": {}
  },
  {
   "cell_type": "code",
   "execution_count": 41,
   "source": [
    "data_diri['nama']"
   ],
   "outputs": [
    {
     "output_type": "execute_result",
     "data": {
      "text/plain": [
       "'Nindya'"
      ]
     },
     "metadata": {},
     "execution_count": 41
    }
   ],
   "metadata": {}
  },
  {
   "cell_type": "code",
   "execution_count": 43,
   "source": [
    "person = {}\r\n",
    "type(person)\r\n",
    "\r\n",
    "person['fname'] = 'Nindya'\r\n",
    "person['lname'] = 'Eka'\r\n",
    "person['age'] = 21\r\n",
    "person['univ'] = 'UNS'\r\n",
    "person['friend'] = ['Ralph', 'Betty', 'Joey']\r\n",
    "person['pets'] = {'dog': 'Fido', 'cat': 'Sox'}"
   ],
   "outputs": [],
   "metadata": {}
  },
  {
   "cell_type": "code",
   "execution_count": 45,
   "source": [
    "person['fname']"
   ],
   "outputs": [
    {
     "output_type": "execute_result",
     "data": {
      "text/plain": [
       "'Nindya'"
      ]
     },
     "metadata": {},
     "execution_count": 45
    }
   ],
   "metadata": {}
  },
  {
   "cell_type": "code",
   "execution_count": 46,
   "source": [
    "person1_age = 42\r\n",
    "person2_age = 16\r\n",
    "person3_age = 71\r\n",
    "\r\n",
    "someone_is_of_working_age = (person1_age >= 18 and person1_age <= 65) or (person2_age >= 18 and person2_age <= 65) or (person3_age >= 18 and person3_age <= 65)\r\n",
    "someone_is_of_working_age"
   ],
   "outputs": [
    {
     "output_type": "execute_result",
     "data": {
      "text/plain": [
       "True"
      ]
     },
     "metadata": {},
     "execution_count": 46
    }
   ],
   "metadata": {}
  },
  {
   "cell_type": "code",
   "execution_count": 47,
   "source": [
    "someone_is_of_working_age = (\r\n",
    "    (person1_age >= 18 and person1_age <= 65)\r\n",
    "    or (person2_age >= 18 and person2_age <= 65)\r\n",
    "    or (person3_age >= 18 and person3_age <= 65)\r\n",
    ")\r\n",
    "\r\n",
    "someone_is_of_working_age"
   ],
   "outputs": [
    {
     "output_type": "execute_result",
     "data": {
      "text/plain": [
       "True"
      ]
     },
     "metadata": {},
     "execution_count": 47
    }
   ],
   "metadata": {}
  }
 ],
 "metadata": {
  "orig_nbformat": 4,
  "language_info": {
   "name": "python",
   "version": "3.7.4",
   "mimetype": "text/x-python",
   "codemirror_mode": {
    "name": "ipython",
    "version": 3
   },
   "pygments_lexer": "ipython3",
   "nbconvert_exporter": "python",
   "file_extension": ".py"
  },
  "kernelspec": {
   "name": "python3",
   "display_name": "Python 3.7.4 64-bit ('base': conda)"
  },
  "interpreter": {
   "hash": "445008aef75f8a681a37ec417fc10da0b0223a565823ee726d94afc018b22edb"
  }
 },
 "nbformat": 4,
 "nbformat_minor": 2
}