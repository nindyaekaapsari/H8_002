{
 "cells": [
  {
   "cell_type": "markdown",
   "source": [
    "# Hacktiv8-PTP Python For Data Science // S.2 // Conditions, Control Flow & Looping"
   ],
   "metadata": {}
  },
  {
   "cell_type": "markdown",
   "source": [
    "---"
   ],
   "metadata": {}
  },
  {
   "cell_type": "markdown",
   "source": [
    "## <b> If Statement <b/>"
   ],
   "metadata": {}
  },
  {
   "cell_type": "code",
   "execution_count": 2,
   "source": [
    "x = 0\r\n",
    "y = 5\r\n",
    "\r\n",
    "if x < y:                            # Truthy\r\n",
    "    print('yes')\r\n",
    "\r\n",
    "if y < x:                            # Falsy\r\n",
    "    print('yes')\r\n",
    "\r\n",
    "if x:                                # Falsy\r\n",
    "    print('yes')\r\n",
    "\r\n",
    "if y:                                # Truthy\r\n",
    "    print('yes')\r\n",
    "\r\n",
    "if 'aul' in 'grault':                # Truthy\r\n",
    "    print('yes')\r\n",
    "\r\n",
    "if 'quux' in ['foo', 'bar', 'baz']:  # Falsy\r\n",
    "    print('yes')"
   ],
   "outputs": [
    {
     "output_type": "stream",
     "name": "stdout",
     "text": [
      "yes\n",
      "yes\n",
      "yes\n"
     ]
    }
   ],
   "metadata": {}
  },
  {
   "cell_type": "code",
   "execution_count": 3,
   "source": [
    "if 'foo' in ['bar', 'baz', 'qux']:\r\n",
    "    print('Expression was true')\r\n",
    "    print('Executing statement in suite')\r\n",
    "    print('...')\r\n",
    "    print('Done.')\r\n",
    "    \r\n",
    "print('After conditional')"
   ],
   "outputs": [
    {
     "output_type": "stream",
     "name": "stdout",
     "text": [
      "After conditional\n"
     ]
    }
   ],
   "metadata": {}
  },
  {
   "cell_type": "code",
   "execution_count": 4,
   "source": [
    "# Does line execute?                        Yes    No\r\n",
    "#                                           ---    --\r\n",
    "if 'foo' in ['foo', 'bar', 'baz']:        #  x\r\n",
    "    print('Outer condition is true')      #  x\r\n",
    "\r\n",
    "    if 10 > 20:                           #  x\r\n",
    "        print('Inner condition 1')        #        x\r\n",
    "\r\n",
    "    print('Between inner conditions')     #  x\r\n",
    "\r\n",
    "    if 10 < 20:                           #  x\r\n",
    "        print('Inner condition 2')        #  x\r\n",
    "\r\n",
    "    print('End of outer condition')       #  x\r\n",
    "print('After outer condition')            #  x"
   ],
   "outputs": [
    {
     "output_type": "stream",
     "name": "stdout",
     "text": [
      "Outer condition is true\n",
      "Between inner conditions\n",
      "Inner condition 2\n",
      "End of outer condition\n",
      "After outer condition\n"
     ]
    }
   ],
   "metadata": {}
  },
  {
   "cell_type": "markdown",
   "source": [
    "### <b> The Else Clauses <b/>"
   ],
   "metadata": {}
  },
  {
   "cell_type": "code",
   "execution_count": 5,
   "source": [
    "x = 20\r\n",
    "\r\n",
    "if x < 50:\r\n",
    "    print('(first suite)')\r\n",
    "    print('x is small')\r\n",
    "else:\r\n",
    "    print('(second suite)')\r\n",
    "    print('x is large')"
   ],
   "outputs": [
    {
     "output_type": "stream",
     "name": "stdout",
     "text": [
      "(first suite)\n",
      "x is small\n"
     ]
    }
   ],
   "metadata": {}
  },
  {
   "cell_type": "code",
   "execution_count": 6,
   "source": [
    "x = 120\r\n",
    "\r\n",
    "if x < 50:\r\n",
    "    print('(first suite)')\r\n",
    "    print('x is small')\r\n",
    "else:\r\n",
    "    print('(second suite)')\r\n",
    "    print('x is large')"
   ],
   "outputs": [
    {
     "output_type": "stream",
     "name": "stdout",
     "text": [
      "(second suite)\n",
      "x is large\n"
     ]
    }
   ],
   "metadata": {}
  },
  {
   "cell_type": "code",
   "execution_count": 7,
   "source": [
    "hargaBuku = 20000\r\n",
    "hargaMajalah = 5000\r\n",
    "uang = 2000\r\n",
    "\r\n",
    "if uang > hargaBuku:\r\n",
    "    print(\"beli buku\")\r\n",
    "else:\r\n",
    "    print(\"uang tidak cukup\")"
   ],
   "outputs": [
    {
     "output_type": "stream",
     "name": "stdout",
     "text": [
      "uang tidak cukup\n"
     ]
    }
   ],
   "metadata": {}
  },
  {
   "cell_type": "markdown",
   "source": [
    "### <b> The Elif Clause <b/>"
   ],
   "metadata": {}
  },
  {
   "cell_type": "code",
   "execution_count": 8,
   "source": [
    "hargaBuku = 20000\r\n",
    "hargaMajalah = 5000\r\n",
    "uang = 2000\r\n",
    "\r\n",
    "if uang > hargaBuku:\r\n",
    "    print(\"beli buku\")\r\n",
    "elif uang > hargaMajalah:\r\n",
    "    print(\"beli majalah\")\r\n",
    "else:\r\n",
    "    print(\"uang tidak cukup\")"
   ],
   "outputs": [
    {
     "output_type": "stream",
     "name": "stdout",
     "text": [
      "uang tidak cukup\n"
     ]
    }
   ],
   "metadata": {}
  },
  {
   "cell_type": "code",
   "execution_count": 9,
   "source": [
    "name = 'Hacktiv8'\r\n",
    "if name == 'Fred':\r\n",
    "    print('Hello Fred')\r\n",
    "elif name == 'Xander':\r\n",
    "    print('Hello Xander')\r\n",
    "elif name == 'Hacktiv8':\r\n",
    "    print('Hello Hacktiv8')\r\n",
    "elif name == 'Arnold':\r\n",
    "    print('Hello Arnold')\r\n",
    "else:\r\n",
    "    print(\"I don't know who you are!\")"
   ],
   "outputs": [
    {
     "output_type": "stream",
     "name": "stdout",
     "text": [
      "Hello Hacktiv8\n"
     ]
    }
   ],
   "metadata": {}
  },
  {
   "cell_type": "code",
   "execution_count": 10,
   "source": [
    "if 'a' in 'bar':\r\n",
    "    print('foo')\r\n",
    "elif 1/0:\r\n",
    "    print(\"This won't happen\")\r\n",
    "elif var:\r\n",
    "    print(\"This won't either\")"
   ],
   "outputs": [
    {
     "output_type": "stream",
     "name": "stdout",
     "text": [
      "foo\n"
     ]
    }
   ],
   "metadata": {}
  },
  {
   "cell_type": "markdown",
   "source": [
    "### <b> One-Line If Statement <b/>"
   ],
   "metadata": {}
  },
  {
   "cell_type": "code",
   "execution_count": 11,
   "source": [
    "if 'f' in 'foo': print('1'); print('2'); print('3')"
   ],
   "outputs": [
    {
     "output_type": "stream",
     "name": "stdout",
     "text": [
      "1\n",
      "2\n",
      "3\n"
     ]
    }
   ],
   "metadata": {}
  },
  {
   "cell_type": "code",
   "execution_count": 12,
   "source": [
    "if 'z' in 'foo': print('1'); print('2'); print('3')"
   ],
   "outputs": [],
   "metadata": {}
  },
  {
   "cell_type": "code",
   "execution_count": 13,
   "source": [
    "x = 2\r\n",
    "\r\n",
    "if x == 1: print('foo'); print('bar'); print('baz')\r\n",
    "elif x == 2: print('qux'); print('quux')\r\n",
    "else: print('corge'); print('grault')"
   ],
   "outputs": [
    {
     "output_type": "stream",
     "name": "stdout",
     "text": [
      "qux\n",
      "quux\n"
     ]
    }
   ],
   "metadata": {}
  },
  {
   "cell_type": "code",
   "execution_count": 14,
   "source": [
    "x = 3\r\n",
    "if x == 1: print('foo'); print('bar'); print('baz')\r\n",
    "elif x == 2: print('qux'); print('quux')\r\n",
    "else: print('corge'); print('grault')"
   ],
   "outputs": [
    {
     "output_type": "stream",
     "name": "stdout",
     "text": [
      "corge\n",
      "grault\n"
     ]
    }
   ],
   "metadata": {}
  },
  {
   "cell_type": "code",
   "execution_count": 15,
   "source": [
    "x = 3\r\n",
    "if x == 1:\r\n",
    "    print('foo')\r\n",
    "    print('bar')\r\n",
    "    print('baz')\r\n",
    "elif x == 2:\r\n",
    "    print('qux')\r\n",
    "    print('quux')\r\n",
    "else:\r\n",
    "    print('corge')\r\n",
    "    print('grault')"
   ],
   "outputs": [
    {
     "output_type": "stream",
     "name": "stdout",
     "text": [
      "corge\n",
      "grault\n"
     ]
    }
   ],
   "metadata": {}
  },
  {
   "cell_type": "markdown",
   "source": [
    "### <b> Conditional Expressions (Python’s Ternary Operator) <b/>"
   ],
   "metadata": {}
  },
  {
   "cell_type": "code",
   "execution_count": 16,
   "source": [
    "raining = False\r\n",
    "print(\"Let's go to the\", 'beach' if not raining else 'library')"
   ],
   "outputs": [
    {
     "output_type": "stream",
     "name": "stdout",
     "text": [
      "Let's go to the beach\n"
     ]
    }
   ],
   "metadata": {}
  },
  {
   "cell_type": "code",
   "execution_count": 17,
   "source": [
    "raining = True\r\n",
    "print(\"Let's go to the\", 'beach' if not raining else 'library')"
   ],
   "outputs": [
    {
     "output_type": "stream",
     "name": "stdout",
     "text": [
      "Let's go to the library\n"
     ]
    }
   ],
   "metadata": {}
  },
  {
   "cell_type": "code",
   "execution_count": 18,
   "source": [
    "age = 12\r\n",
    "s = 'teen' if age < 21 else 'adult'\r\n",
    "s"
   ],
   "outputs": [
    {
     "output_type": "execute_result",
     "data": {
      "text/plain": [
       "'teen'"
      ]
     },
     "metadata": {},
     "execution_count": 18
    }
   ],
   "metadata": {}
  },
  {
   "cell_type": "code",
   "execution_count": 19,
   "source": [
    "'yes' if ('qux' in ['foo', 'bar', 'baz']) else 'no'"
   ],
   "outputs": [
    {
     "output_type": "execute_result",
     "data": {
      "text/plain": [
       "'no'"
      ]
     },
     "metadata": {},
     "execution_count": 19
    }
   ],
   "metadata": {}
  },
  {
   "cell_type": "code",
   "execution_count": 20,
   "source": [
    "#contoh salah\r\n",
    "#if True:\r\n",
    "#print('foo')\r\n",
    "\r\n",
    "#contoh benar\r\n",
    "if True:\r\n",
    "    pass\r\n",
    "print('foo')"
   ],
   "outputs": [
    {
     "output_type": "stream",
     "name": "stdout",
     "text": [
      "foo\n"
     ]
    }
   ],
   "metadata": {}
  },
  {
   "cell_type": "markdown",
   "source": [
    "## <b> While Loops <b/>"
   ],
   "metadata": {}
  },
  {
   "cell_type": "code",
   "execution_count": 21,
   "source": [
    "n = 5\r\n",
    "while n > 0:\r\n",
    "    n -= 1\r\n",
    "    print(n)"
   ],
   "outputs": [
    {
     "output_type": "stream",
     "name": "stdout",
     "text": [
      "4\n",
      "3\n",
      "2\n",
      "1\n",
      "0\n"
     ]
    }
   ],
   "metadata": {}
  },
  {
   "cell_type": "code",
   "execution_count": 22,
   "source": [
    "i = 1\r\n",
    "while i < 6:\r\n",
    "  print(i)\r\n",
    "  i += 1"
   ],
   "outputs": [
    {
     "output_type": "stream",
     "name": "stdout",
     "text": [
      "1\n",
      "2\n",
      "3\n",
      "4\n",
      "5\n"
     ]
    }
   ],
   "metadata": {}
  },
  {
   "cell_type": "markdown",
   "source": [
    "### <b> Break & Continue Statements <b/>"
   ],
   "metadata": {}
  },
  {
   "cell_type": "code",
   "execution_count": 23,
   "source": [
    "n = 5\r\n",
    "while n > 0:\r\n",
    "    n -= 1\r\n",
    "    if n == 2:\r\n",
    "        break # Break Statement\r\n",
    "    print(n)\r\n",
    "print('Loop ended.')"
   ],
   "outputs": [
    {
     "output_type": "stream",
     "name": "stdout",
     "text": [
      "4\n",
      "3\n",
      "Loop ended.\n"
     ]
    }
   ],
   "metadata": {}
  },
  {
   "cell_type": "code",
   "execution_count": 24,
   "source": [
    "n = 5\r\n",
    "while n > 0:\r\n",
    "    n -= 1\r\n",
    "    if n == 2:\r\n",
    "        continue\r\n",
    "    print(n)\r\n",
    "print('Loop ended.')"
   ],
   "outputs": [
    {
     "output_type": "stream",
     "name": "stdout",
     "text": [
      "4\n",
      "3\n",
      "1\n",
      "0\n",
      "Loop ended.\n"
     ]
    }
   ],
   "metadata": {}
  },
  {
   "cell_type": "code",
   "execution_count": 25,
   "source": [
    "n = 5\r\n",
    "while n > 0:\r\n",
    "    n -= 1\r\n",
    "    print(n)\r\n",
    "else:\r\n",
    "    print('Loop done.')"
   ],
   "outputs": [
    {
     "output_type": "stream",
     "name": "stdout",
     "text": [
      "4\n",
      "3\n",
      "2\n",
      "1\n",
      "0\n",
      "Loop done.\n"
     ]
    }
   ],
   "metadata": {}
  },
  {
   "cell_type": "code",
   "execution_count": 26,
   "source": [
    "n = 5\r\n",
    "while n > 0:\r\n",
    "    n -= 1\r\n",
    "    print(n)\r\n",
    "    if n == 2:\r\n",
    "        break\r\n",
    "else:\r\n",
    "    print('Loop done.')"
   ],
   "outputs": [
    {
     "output_type": "stream",
     "name": "stdout",
     "text": [
      "4\n",
      "3\n",
      "2\n"
     ]
    }
   ],
   "metadata": {}
  },
  {
   "cell_type": "markdown",
   "source": [
    "### <b> The Else Clause <b/>"
   ],
   "metadata": {}
  },
  {
   "cell_type": "code",
   "execution_count": 27,
   "source": [
    "for i in ['foo', 'bar', 'baz', 'qux']:\r\n",
    "    print(i)\r\n",
    "else:\r\n",
    "    print('Done.')  # Will execute"
   ],
   "outputs": [
    {
     "output_type": "stream",
     "name": "stdout",
     "text": [
      "foo\n",
      "bar\n",
      "baz\n",
      "qux\n",
      "Done.\n"
     ]
    }
   ],
   "metadata": {}
  },
  {
   "cell_type": "markdown",
   "source": [
    "### <b> Infinite Loops <b/>"
   ],
   "metadata": {}
  },
  {
   "cell_type": "code",
   "execution_count": 28,
   "source": [
    "#while True:\r\n",
    "#    print('foo')"
   ],
   "outputs": [],
   "metadata": {}
  }
 ],
 "metadata": {
  "orig_nbformat": 4,
  "language_info": {
   "name": "python",
   "version": "3.7.4",
   "mimetype": "text/x-python",
   "codemirror_mode": {
    "name": "ipython",
    "version": 3
   },
   "pygments_lexer": "ipython3",
   "nbconvert_exporter": "python",
   "file_extension": ".py"
  },
  "kernelspec": {
   "name": "python3",
   "display_name": "Python 3.7.4 64-bit ('base': conda)"
  },
  "interpreter": {
   "hash": "445008aef75f8a681a37ec417fc10da0b0223a565823ee726d94afc018b22edb"
  }
 },
 "nbformat": 4,
 "nbformat_minor": 2
}